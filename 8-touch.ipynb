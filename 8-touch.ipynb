{
 "cells": [
  {
   "cell_type": "code",
   "execution_count": 5,
   "metadata": {},
   "outputs": [],
   "source": [
    "import cv2 \n",
    "import numpy as np \n",
    "import matplotlib.pyplot as plt "
   ]
  },
  {
   "cell_type": "markdown",
   "metadata": {},
   "source": [
    "# حرکت موس"
   ]
  },
  {
   "cell_type": "code",
   "execution_count": 8,
   "metadata": {},
   "outputs": [
    {
     "name": "stdout",
     "output_type": "stream",
     "text": [
      "Screen width: 3072px\n",
      "Screen height: 1728px\n",
      "Current mouse position: Point(x=461, y=719)\n"
     ]
    }
   ],
   "source": [
    "import pyautogui\n",
    "\n",
    "# به‌دست آوردن ابعاد صفحه نمایش\n",
    "screen_width, screen_height = pyautogui.size()\n",
    "\n",
    "print(f\"Screen width: {screen_width}px\")\n",
    "print(f\"Screen height: {screen_height}px\")\n",
    "\n",
    "# # دریافت موقعیت فعلی موس\n",
    "current_position = pyautogui.position()\n",
    "print(f\"Current mouse position: {current_position}\")\n",
    "\n",
    "\n",
    "\n",
    "# pyautogui.moveTo(500, 500,0)\n",
    "\n",
    "# # # جابجا کردن موس به مقدار مشخص نسبت به موقعیت فعلی\n",
    "# pyautogui.moveRel(200, 0, duration=1)\n",
    "\n"
   ]
  },
  {
   "cell_type": "markdown",
   "metadata": {},
   "source": [
    "# اضافه کردن حرکات دست و اعمال"
   ]
  },
  {
   "cell_type": "markdown",
   "metadata": {},
   "source": [
    "# تابع فعال کردن وبکم ودنبال کردن انگشتان"
   ]
  },
  {
   "cell_type": "code",
   "execution_count": 2,
   "metadata": {},
   "outputs": [
    {
     "name": "stderr",
     "output_type": "stream",
     "text": [
      "I0000 00:00:1724673045.967172    7204 gl_context_egl.cc:85] Successfully initialized EGL. Major : 1 Minor: 5\n",
      "I0000 00:00:1724673045.968317    7393 gl_context.cc:357] GL version: 3.2 (OpenGL ES 3.2 Mesa 24.0.9-0ubuntu0.1), renderer: Mesa Intel(R) Xe Graphics (TGL GT2)\n",
      "W0000 00:00:1724673045.981125    7384 inference_feedback_manager.cc:114] Feedback manager requires a model with a single signature inference. Disabling support for feedback tensors.\n",
      "W0000 00:00:1724673046.003384    7390 inference_feedback_manager.cc:114] Feedback manager requires a model with a single signature inference. Disabling support for feedback tensors.\n"
     ]
    }
   ],
   "source": [
    "import cv2\n",
    "import mediapipe as mp\n",
    "import pyautogui\n",
    "import time\n",
    "\n",
    "# مقداردهی اولیه Mediapipe\n",
    "mp_hands = mp.solutions.hands\n",
    "hands = mp_hands.Hands(max_num_hands=1, min_detection_confidence=0.7)\n",
    "mp_draw = mp.solutions.drawing_utils\n",
    "\n",
    "cap = cv2.VideoCapture(0)\n",
    "\n",
    "\n",
    "while True:\n",
    "    success, frame = cap.read()\n",
    "    if not success:\n",
    "        break\n",
    "\n",
    "    frame = cv2.flip(frame, 1)\n",
    "    h, w, c = frame.shape\n",
    "    \n",
    "    # پردازش فریم برای پیدا کردن دست\n",
    "    results = hands.process(cv2.cvtColor(frame, cv2.COLOR_BGR2RGB))\n",
    "\n",
    "\n",
    "    # بررسی اگر دست‌ها تشخیص داده شدند\n",
    "    if results.multi_hand_landmarks:\n",
    "        for hand_landmarks in results.multi_hand_landmarks:\n",
    "            for id, pos_id in enumerate(hand_landmarks.landmark):\n",
    "                # تبدیل مختصات فریم به مختصات صفحه نمایش\n",
    "                x = int(pos_id.x * w)\n",
    "                y = int(pos_id.y * h)\n",
    "                \n",
    "                # رسم دایره در موقعیت انگشت شست با id=4\n",
    "                if id == 4:\n",
    "                    cv2.circle(frame, (x, y), 10, (0, 255, 0), -1)  # رنگ سبز و شعاع 10\n",
    "\n",
    "                # رسم دایره در موقعیت نوک انگشت اشاره با id=8\n",
    "                if id == 8:\n",
    "                    cv2.circle(frame, (x, y), 10, (0, 255, 0), -1)  # رنگ سبز و شعاع 10\n",
    "\n",
    "            # رسم دست و نقاط روی تصویر\n",
    "            mp_draw.draw_landmarks(frame, hand_landmarks, mp_hands.HAND_CONNECTIONS)\n",
    "\n",
    "            # پیدا کردن موقعیت انگشت اشاره و حرکت موس به آن\n",
    "            if results.multi_hand_landmarks:\n",
    "                for hand_landmarks in results.multi_hand_landmarks:\n",
    "                    x_8 = int(hand_landmarks.landmark[8].x * w)\n",
    "                    y_8 = int(hand_landmarks.landmark[8].y * h)\n",
    "\n",
    "                    # تبدیل مختصات فریم به مختصات صفحه نمایش\n",
    "                    screen_width, screen_height = pyautogui.size()\n",
    "                    screen_x = int(x_8 * screen_width / w)\n",
    "                    screen_y = int(y_8 * screen_height / h)\n",
    "\n",
    "                    # حرکت موس به موقعیت انگشت اشاره\n",
    "                    pyautogui.moveTo(screen_x, screen_y, duration=0)  # حرکت سریع موس\n",
    "\n",
    "    \n",
    "    cv2.imshow('Finger Tracking', frame)\n",
    "    \n",
    "    if cv2.waitKey(1) & 0xFF == 27:  # برای خروج کلید Esc را فشار دهید\n",
    "        break\n",
    "\n",
    "cap.release()\n",
    "cv2.destroyAllWindows()\n"
   ]
  }
 ],
 "metadata": {
  "kernelspec": {
   "display_name": "Data_Science",
   "language": "python",
   "name": "python3"
  },
  "language_info": {
   "codemirror_mode": {
    "name": "ipython",
    "version": 3
   },
   "file_extension": ".py",
   "mimetype": "text/x-python",
   "name": "python",
   "nbconvert_exporter": "python",
   "pygments_lexer": "ipython3",
   "version": "3.12.3"
  }
 },
 "nbformat": 4,
 "nbformat_minor": 2
}
